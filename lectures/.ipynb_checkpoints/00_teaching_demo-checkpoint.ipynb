{
 "cells": [
  {
   "cell_type": "markdown",
   "id": "a8161ede-042f-4063-99f6-1d515b2c0c04",
   "metadata": {
    "editable": true,
    "slideshow": {
     "slide_type": "slide"
    },
    "tags": []
   },
   "source": [
    "# Teaching Demo - Recursion\n",
    "\n",
    "## Today's Plan\n",
    "* Introduce recursion as a strategy to define and break down a problem\n",
    "    * Compare recursive and iterative definitions and implementations of factorial\n",
    "* Discuss what it means for a function to call itself\n",
    "* Compare iterative and recursive implementations of sample algorithms \n",
    "\n",
    "## Learning Objectives\n",
    "* Compare and contrast recursion and iteration.\n",
    "* Explain what recursion is, and why both the base case(s) and recursive step(s) are needed.\n",
    "* Identify problems where recursion fits well.\n"
   ]
  },
  {
   "cell_type": "markdown",
   "id": "c70a8723-396b-4ca1-be9d-cbb342c76d28",
   "metadata": {
    "editable": true,
    "slideshow": {
     "slide_type": "slide"
    },
    "tags": []
   },
   "source": [
    "\n",
    "## Setting the Stage\n",
    "- Writing code is largely about breaking down problems into smaller, more manageable pieces\n",
    "  - Complex applications are broken down into packages or modules\n",
    "  - Modules are broken down into functions and sub-functions\n",
    "  - etc.\n",
    "- Some divisions of a problem are easier to work with than others\n",
    "- Recursion is a tool for breaking down problems in a different way"
   ]
  },
  {
   "cell_type": "markdown",
   "id": "c44a2dfe-1fdf-443f-87bb-9d8b7db31a02",
   "metadata": {
    "editable": true,
    "slideshow": {
     "slide_type": "slide"
    },
    "tags": []
   },
   "source": [
    "## Factorial: Iterative Definition (~4m)\n",
    "$n!=n(n-1)(n-2)...(2)(1)$\n",
    "\n",
    "Useful for counting permutations and computing probabilities.\n",
    "\n",
    "For example, if you have 5 books on a shelf, how many different ways can you organize them?\n",
    "\n",
    "$5!=5 \\times 4 \\times 3 \\times 2 \\times 1=120$\n",
    "\n",
    "Let's look at an iterative implementation."
   ]
  },
  {
   "cell_type": "code",
   "execution_count": 16,
   "id": "d4095ecc-509b-4769-873a-372ec0617581",
   "metadata": {
    "editable": true,
    "slideshow": {
     "slide_type": "slide"
    },
    "tags": []
   },
   "outputs": [],
   "source": [
    "def factorial(n):\n",
    "    \"\"\"\n",
    "    Computes the factorial of the input n (n!).\n",
    "\n",
    "    Parameters\n",
    "    ----------\n",
    "    n : int\n",
    "        The value to compute factorial of. Must be a positive integer.\n",
    "\n",
    "    Returns\n",
    "    -------\n",
    "    integer\n",
    "        The value of n!\n",
    "    \"\"\"\n",
    "    result = n\n",
    "    while n > 1:\n",
    "        result = result * (n-1)\n",
    "        n = n-1\n",
    "    return result"
   ]
  },
  {
   "cell_type": "code",
   "execution_count": 17,
   "id": "063224d2-caec-4d62-9c5e-aaa1f23dd0b5",
   "metadata": {
    "editable": true,
    "slideshow": {
     "slide_type": "fragment"
    },
    "tags": []
   },
   "outputs": [
    {
     "name": "stdout",
     "output_type": "stream",
     "text": [
      "5! = 120\n"
     ]
    }
   ],
   "source": [
    "print(\"5! =\", factorial(5))"
   ]
  },
  {
   "cell_type": "markdown",
   "id": "db5cd39d-6dba-408d-bcde-1ca02cfda8ad",
   "metadata": {
    "editable": true,
    "slideshow": {
     "slide_type": "slide"
    },
    "tags": []
   },
   "source": [
    "### How are we breaking up this problem?\n",
    "- each step is a multiplication operation\n",
    "- we keep track of the \"working result\" at each step\n",
    "\n",
    "This is the iterative approach.\n",
    "\n",
    "\n",
    "### Execution Schematic\n",
    "```\n",
    "factorial(5):\n",
    "\n",
    "Step 1: result=5\n",
    "Step 2: result=result*4\n",
    "Step 3: result=result*3\n",
    "Step 4: result=result*2\n",
    "Step 5: result=result*1\n",
    "Step 6: return result\n",
    "```"
   ]
  },
  {
   "cell_type": "markdown",
   "id": "84e6296e-4329-4762-b410-727e69ec53af",
   "metadata": {
    "editable": true,
    "slideshow": {
     "slide_type": "slide"
    },
    "tags": []
   },
   "source": [
    "## Factorial: Recursive Definition (~4m)\n",
    "\n",
    "### Another way to break up the problem\n",
    "\n",
    "We first defined factorial as follows:\n",
    "\n",
    "**Definition 1:**\n",
    "\n",
    "$n!=n(n-1)(n-2)...(2)(1)$\n",
    "\n",
    "Another way to define the factorial is:\n",
    "\n",
    "**Definition 2:**\n",
    "\n",
    "$n!=n(n-1)!$\n",
    "\n",
    "We can define the problem in terms of itself! This is the recursive approach."
   ]
  },
  {
   "cell_type": "code",
   "execution_count": 18,
   "id": "251c550d-d94a-4a6f-aee5-3e2cda368a92",
   "metadata": {
    "editable": true,
    "slideshow": {
     "slide_type": "fragment"
    },
    "tags": []
   },
   "outputs": [
    {
     "name": "stdout",
     "output_type": "stream",
     "text": [
      "5! = 5*4! = 120\n"
     ]
    }
   ],
   "source": [
    "# Test out Definition 2 to convince ourselves it is correct\n",
    "print(\"5! = 5*4! =\",5*factorial(4))"
   ]
  },
  {
   "cell_type": "code",
   "execution_count": 22,
   "id": "3df1c838-5b7b-4af8-8cb4-ba07e9510e60",
   "metadata": {
    "editable": true,
    "slideshow": {
     "slide_type": "slide"
    },
    "tags": []
   },
   "outputs": [],
   "source": [
    "def factorial_recursive(n):\n",
    "    \"\"\"\n",
    "    Computes the factorial of the input n (n!).\n",
    "\n",
    "    Parameters\n",
    "    ----------\n",
    "    n : int\n",
    "        The value to compute factorial of. Must be a positive integer.\n",
    "\n",
    "    Returns\n",
    "    -------\n",
    "    integer\n",
    "        The value of n!\n",
    "    \"\"\"\n",
    "    print(\"called with:\", n)\n",
    "    return n * factorial_recursive(n-1) # n(n-1)!\n"
   ]
  },
  {
   "cell_type": "code",
   "execution_count": 24,
   "id": "8e681a07-f023-43b1-90d6-cbb57d486629",
   "metadata": {
    "editable": true,
    "slideshow": {
     "slide_type": "fragment"
    },
    "tags": []
   },
   "outputs": [],
   "source": [
    "#print(\"5! =\", factorial_recursive(5))"
   ]
  },
  {
   "cell_type": "markdown",
   "id": "f379c93e-2c91-4709-9e09-c3071c77b710",
   "metadata": {},
   "source": [
    "---\n",
    "<br><br><br><br><br>\n",
    "\n",
    "\n",
    "\n",
    "<br><br><br><br><br>\n",
    "\n",
    "---"
   ]
  },
  {
   "attachments": {},
   "cell_type": "markdown",
   "id": "82895052-64ba-46ad-8722-6fce8be7e2b1",
   "metadata": {
    "editable": true,
    "slideshow": {
     "slide_type": "slide"
    },
    "tags": []
   },
   "source": [
    "Oops, we are missing something important!\n",
    "\n",
    "We've found a problem in our recursion.\n",
    "\n",
    "<img src=\"./static/problems-with-recursion-meme.png\" style=\"width: 30rem\"></img>\n",
    "\n",
    "(Image attribution to SMBC, from [source](http://smbc-comics.com/comic/recursion))"
   ]
  },
  {
   "cell_type": "markdown",
   "id": "669814c5-7f7d-464b-8a95-bc2d75a476f6",
   "metadata": {
    "editable": true,
    "slideshow": {
     "slide_type": "slide"
    },
    "tags": []
   },
   "source": [
    "### Revise Recursive Definition to Include Base Case\n",
    "\n",
    "Let's revise **Definition 2** to define when to stop:\n",
    "\n",
    "$n! = \\begin{cases} n(n-1)!~, &  & n > 1 \\\\ 1~~~~~~~~~~~~~~~, &  & n=1 \\end{cases}$\n",
    "\n"
   ]
  },
  {
   "cell_type": "markdown",
   "id": "c5006dcc-29b8-451c-ad33-0e3468a8c2cf",
   "metadata": {
    "editable": true,
    "slideshow": {
     "slide_type": "fragment"
    },
    "tags": []
   },
   "source": [
    "\n",
    "Now we have the two essential parts to any recursive algorithm:\n",
    "- **Inductive Step** (\"how do we call the function from within itself\")\n",
    "- **Base Case** (\"when do we stop\")\n",
    "\n",
    "<img src=\"https://i.imgflip.com/7wmphv.jpg\" style=\"width:20rem\"></img>\n",
    "\n",
    "(Image attribution to Jake Clark, edited from [source](https://jake-clark.tumblr.com/post/100946716432))"
   ]
  },
  {
   "cell_type": "markdown",
   "id": "d9c07833-ab7c-453e-b891-f30b62d49ecb",
   "metadata": {
    "editable": true,
    "slideshow": {
     "slide_type": "slide"
    },
    "tags": []
   },
   "source": [
    "\n",
    "Now, let's adjust the implementation to include the second part of **Definition 2**.\n",
    "\n"
   ]
  },
  {
   "cell_type": "code",
   "execution_count": 25,
   "id": "f7d1dbb9-0007-4fc4-979b-752b7562f05b",
   "metadata": {
    "editable": true,
    "slideshow": {
     "slide_type": "fragment"
    },
    "tags": []
   },
   "outputs": [],
   "source": [
    "def factorial_recursive(n):\n",
    "    \"\"\"\n",
    "    Computes the factorial of the input n (n!).\n",
    "\n",
    "    Parameters\n",
    "    ----------\n",
    "    n : int\n",
    "        The value to compute factorial of. Must be a positive integer.\n",
    "\n",
    "    Returns\n",
    "    -------\n",
    "    integer\n",
    "        The value of n!\n",
    "    \"\"\"\n",
    "    if n == 1:\n",
    "        return 1\n",
    "    return n * factorial_recursive(n-1)\n"
   ]
  },
  {
   "cell_type": "code",
   "execution_count": 26,
   "id": "981c3757-c854-4837-a96c-314386912856",
   "metadata": {
    "editable": true,
    "slideshow": {
     "slide_type": "fragment"
    },
    "tags": []
   },
   "outputs": [
    {
     "name": "stdout",
     "output_type": "stream",
     "text": [
      "5! = 120\n"
     ]
    }
   ],
   "source": [
    "print(\"5! =\", factorial_recursive(5))"
   ]
  },
  {
   "cell_type": "markdown",
   "id": "503d3125-12e3-476e-b74a-2b63f9ba0bed",
   "metadata": {
    "editable": true,
    "slideshow": {
     "slide_type": "fragment"
    },
    "tags": []
   },
   "source": [
    "## How are we breaking up this problem?\n",
    "- each step is a factorial operation\n",
    "- at the base case, we return a constant (end the recursion)\n",
    "- Don't need to keep track of an intermediary result"
   ]
  },
  {
   "cell_type": "markdown",
   "id": "01eed2eb-3f17-4184-b0b5-a51f17f16e08",
   "metadata": {
    "editable": true,
    "slideshow": {
     "slide_type": "slide"
    },
    "tags": []
   },
   "source": [
    "## What happens when we call a function recursively? (~4m)\n",
    "### Execution Schematic\n",
    "```\n",
    "factorial_recursive(5):\n",
    "\n",
    "Level 1: 5*factorial_recursive(4)\n",
    "  Level 2: 4*factorial_recursive(3)\n",
    "    Level 3: 3*factorial_recursive(2)\n",
    "      Level 4: 2*factorial_recursive(1)\n",
    "        Level 5: return 1\n",
    "      Level 4: return 2*1\n",
    "    Level 3: return 3*2\n",
    "  Level 2: return 4*6\n",
    "Level 1: return 5*24\n",
    "```"
   ]
  },
  {
   "cell_type": "markdown",
   "id": "c423cfae-88e2-44ef-9db1-965499036e97",
   "metadata": {
    "editable": true,
    "slideshow": {
     "slide_type": "slide"
    },
    "tags": []
   },
   "source": [
    "### Metaphor: Nesting Dolls\n",
    "<img src=\"./static/nesting-dolls-factorial-5.jpeg\" style=\"height: 30rem; width: 30rem\"></img>\n",
    "\n",
    "(Image attribution to Fanghong, from [source](https://en.wikipedia.org/wiki/Matryoshka_doll).)\n",
    "\n",
    "- Joe is a painter for Recursive Dolls Inc\n",
    "- First, paint the largest doll\n",
    "- Then, open up and reveal the second-largest doll\n",
    "- While we paint the second doll, the first doll is drying\n",
    "- Once we reach the smallest doll, we can start putting the set back together\n"
   ]
  },
  {
   "cell_type": "markdown",
   "id": "34090da9-3aea-41d1-b910-881cc0749669",
   "metadata": {
    "editable": true,
    "slideshow": {
     "slide_type": "slide"
    },
    "tags": []
   },
   "source": [
    "## Why Use recursion?\n",
    "- For the factorial, it's not clear that the recursive solution is better\n",
    "  - Both are simple to understand\n",
    "  - Both have about the same performance\n",
    "- All algorithms can be written using either recursion or iteration\n",
    "- Use recursion where it makes the code easier to understand for the people reading and writing it!\n",
    "- But some situations lend themselves particularly well to recursive algorithms"
   ]
  },
  {
   "cell_type": "markdown",
   "id": "7add20dd-fabe-494f-a82f-386c0e008d22",
   "metadata": {
    "editable": true,
    "slideshow": {
     "slide_type": "slide"
    },
    "tags": []
   },
   "source": [
    "## Examples of Recursion (~8m)"
   ]
  },
  {
   "cell_type": "markdown",
   "id": "ad410d54-bf2a-413a-9b2a-53bcb4715033",
   "metadata": {
    "editable": true,
    "slideshow": {
     "slide_type": "fragment"
    },
    "tags": []
   },
   "source": [
    "### Example 1: Searching for a file in a folder\n",
    "- The filesystem on your laptop contains files and folders\n",
    "- A file is either:\n",
    "  - A regular file with a name and some data inside, or:\n",
    "  - A special file with a name and a list of sub-files inside (a folder, or directory)\n",
    "- We will discuss in more detail in the next lecture (Recursive Data Structures)\n",
    "\n",
    "<img src=\"./static/file-system.jpg\"></img>"
   ]
  },
  {
   "cell_type": "code",
   "execution_count": 27,
   "id": "7360856b-1905-4397-aa96-c1af988a14b3",
   "metadata": {
    "editable": true,
    "slideshow": {
     "slide_type": "slide"
    },
    "tags": []
   },
   "outputs": [],
   "source": [
    "class File:\n",
    "    \"\"\"\n",
    "    File represents a file (or folder) in a filesystem. \n",
    "\n",
    "    Fields\n",
    "    ------\n",
    "    name : string\n",
    "        The name of the file\n",
    "    contents : [File]\n",
    "        A list of sub-files. \n",
    "        If contents is empty, then the file is a standard file).\n",
    "        If contents is non-empty, then the file is a folder.\n",
    "    \"\"\"\n",
    "    def __init__(self, name, contents=[]):\n",
    "        self.name = name\n",
    "        self.contents = contents\n",
    "\n",
    "    def print(self, indent=\"\"):\n",
    "        print(\"{0}{1}\".format(indent, self.name))\n",
    "        for file in self.contents:\n",
    "            file.print(indent + \"  \")\n"
   ]
  },
  {
   "cell_type": "code",
   "execution_count": 32,
   "id": "421cad99-c004-4999-a73b-2891a4f5daee",
   "metadata": {
    "editable": true,
    "slideshow": {
     "slide_type": "fragment"
    },
    "tags": []
   },
   "outputs": [
    {
     "name": "stdout",
     "output_type": "stream",
     "text": [
      "Desktop\n",
      "  Pictures\n",
      "    dog.jpg\n",
      "    cat.jpg\n",
      "  MDS Labs\n",
      "    lab 1\n",
      "    lab 2\n",
      "  Important!!!\n"
     ]
    }
   ],
   "source": [
    "desktop = File(\"Desktop\", contents=[\n",
    "    File(\"Pictures\", contents=[\n",
    "        File(\"dog.jpg\"),\n",
    "        File(\"cat.jpg\"),\n",
    "    ]),\n",
    "    File(\"MDS Labs\", contents=[\n",
    "        File(\"lab 1\"),\n",
    "        File(\"lab 2\"),\n",
    "    ]),\n",
    "    File(\"Important!!!\")\n",
    "])\n",
    "\n",
    "desktop.print()"
   ]
  },
  {
   "cell_type": "code",
   "execution_count": 33,
   "id": "6cf45358-5ded-4b4e-8112-73ccea40e5bc",
   "metadata": {
    "editable": true,
    "slideshow": {
     "slide_type": "fragment"
    },
    "tags": []
   },
   "outputs": [],
   "source": [
    "def contains_file_iter(file, name):\n",
    "    \"\"\"\n",
    "    Searches through a part of the filesystem for a file with the given name.\n",
    "    \n",
    "    Parameters\n",
    "    ----------\n",
    "    file : File\n",
    "        The file or folder to search through\n",
    "    name : string\n",
    "        The name of the file to search for\n",
    "\n",
    "    Returns\n",
    "    -------\n",
    "    bool\n",
    "        Does a file with given name exist in the folder?\n",
    "    \"\"\"\n",
    "    files_to_check = [file]\n",
    "    \n",
    "    while len(files_to_check) > 0:\n",
    "        next_file = files_to_check.pop()\n",
    "        if next_file.name == name:\n",
    "            return True\n",
    "        for subfile in next_file.contents:\n",
    "            files_to_check.append(subfile)\n",
    "    return False"
   ]
  },
  {
   "cell_type": "code",
   "execution_count": 34,
   "id": "897a819c-de66-451b-aa7c-fdaa92118859",
   "metadata": {
    "editable": true,
    "slideshow": {
     "slide_type": "fragment"
    },
    "tags": []
   },
   "outputs": [
    {
     "data": {
      "text/plain": [
       "True"
      ]
     },
     "execution_count": 34,
     "metadata": {},
     "output_type": "execute_result"
    }
   ],
   "source": [
    "contains_file_iter(desktop, \"dog.jpg\")"
   ]
  },
  {
   "cell_type": "code",
   "execution_count": 35,
   "id": "fe8faf36-8942-4a76-97e0-aacdd4d41c80",
   "metadata": {},
   "outputs": [
    {
     "data": {
      "text/plain": [
       "False"
      ]
     },
     "execution_count": 35,
     "metadata": {},
     "output_type": "execute_result"
    }
   ],
   "source": [
    "contains_file_iter(desktop, \"nonexistent.jpg\")"
   ]
  },
  {
   "cell_type": "code",
   "execution_count": 37,
   "id": "0b2fd0fd-5f78-42e4-8325-698d6cdb34c5",
   "metadata": {
    "editable": true,
    "slideshow": {
     "slide_type": "slide"
    },
    "tags": []
   },
   "outputs": [],
   "source": [
    "def contains_file_recursive(file, name):\n",
    "    \"\"\"\n",
    "    Searches through a part of the filesystem for a file with the given name.\n",
    "    \n",
    "    Parameters\n",
    "    ----------\n",
    "    file : File\n",
    "        The file or folder to search through\n",
    "    name : string\n",
    "        The name of the file to search for\n",
    "\n",
    "    Returns\n",
    "    -------\n",
    "    bool\n",
    "        Does a file with given name exist in the folder?\n",
    "    \"\"\" \n",
    "    if file.name == name:\n",
    "        return True\n",
    "    return any(contains_file_recursive(subfile, name) for subfile in file.contents)\n"
   ]
  },
  {
   "cell_type": "code",
   "execution_count": 38,
   "id": "639224f8-5d20-472d-bd97-3b5da977c070",
   "metadata": {
    "editable": true,
    "slideshow": {
     "slide_type": "fragment"
    },
    "tags": []
   },
   "outputs": [
    {
     "data": {
      "text/plain": [
       "True"
      ]
     },
     "execution_count": 38,
     "metadata": {},
     "output_type": "execute_result"
    }
   ],
   "source": [
    "contains_file_recursive(desktop, \"dog.jpg\")"
   ]
  },
  {
   "cell_type": "code",
   "execution_count": 39,
   "id": "4640eea4-f013-4ccd-8c58-52972cbf01fa",
   "metadata": {},
   "outputs": [
    {
     "data": {
      "text/plain": [
       "False"
      ]
     },
     "execution_count": 39,
     "metadata": {},
     "output_type": "execute_result"
    }
   ],
   "source": [
    "contains_file_iter(desktop, \"nonexistent.jpg\")"
   ]
  },
  {
   "cell_type": "markdown",
   "id": "7f2504d6-63d3-4205-8b00-8e5ef4caa704",
   "metadata": {
    "editable": true,
    "slideshow": {
     "slide_type": "subslide"
    },
    "tags": []
   },
   "source": [
    "The recursive implementation is half the size of the iterative one!\n",
    "- Recursive data structures (like the file system) often work well with recursive algorithms\n",
    "- Recursive algorithms often avoid the need to keep track of extra state (no `files_to_check`)\n",
    "\n",
    "### Questions\n",
    "- What is the base case in `contains_file_recursive`?\n",
    "- What is the recursive step(s) in `contains_file_recursive`?"
   ]
  },
  {
   "cell_type": "markdown",
   "id": "66c7478e-29be-4e3a-ae36-9a23cbf5bc55",
   "metadata": {
    "editable": true,
    "slideshow": {
     "slide_type": "slide"
    },
    "tags": []
   },
   "source": [
    "### Example 2: Checking if a word is a palindrome (time permitting)\n",
    "- A palindrome is a word that reads the same forward and backward\n",
    "- \"racecar\" is a palindrome\n",
    "- \"car\" is not a palindrome"
   ]
  },
  {
   "cell_type": "code",
   "execution_count": 47,
   "id": "c024b9e1-ef30-46da-8b68-ebcd9e929ccc",
   "metadata": {
    "editable": true,
    "slideshow": {
     "slide_type": "fragment"
    },
    "tags": []
   },
   "outputs": [],
   "source": [
    "def is_palindrome(word):\n",
    "    \"\"\"\n",
    "    Determines whether an input word is a palindrome or not.\n",
    "    \n",
    "    Parameters\n",
    "    ----------\n",
    "    word : string\n",
    "        The word to check.\n",
    "\n",
    "    Returns\n",
    "    -------\n",
    "    bool\n",
    "        Is word a palindrome?\n",
    "    \"\"\" \n",
    "    if len(word) == 1:\n",
    "        return True\n",
    "\n",
    "    first_letter = word[0]\n",
    "    last_letter = word[-1]\n",
    "    if first_letter == last_letter:\n",
    "        return is_palindrome(word[1:-1])\n",
    "    else:\n",
    "        return False"
   ]
  },
  {
   "cell_type": "code",
   "execution_count": 48,
   "id": "aecc7d54-c7f8-4645-8a5a-d22ff5c81a38",
   "metadata": {
    "editable": true,
    "slideshow": {
     "slide_type": "fragment"
    },
    "tags": []
   },
   "outputs": [],
   "source": [
    "assert is_palindrome(\"racecar\")\n",
    "assert not is_palindrome(\"car\")"
   ]
  },
  {
   "cell_type": "markdown",
   "id": "35702539-7b40-469c-bd91-6cb8e6cb799c",
   "metadata": {
    "editable": true,
    "slideshow": {
     "slide_type": "fragment"
    },
    "tags": []
   },
   "source": [
    "#### Questions\n",
    "- What is the base case?\n",
    "- What is the recursive step?"
   ]
  },
  {
   "cell_type": "markdown",
   "id": "92ffb0ca-1031-45e4-9d3d-c29cfc1483e8",
   "metadata": {
    "editable": true,
    "slideshow": {
     "slide_type": "slide"
    },
    "tags": []
   },
   "source": [
    "# Summary"
   ]
  },
  {
   "cell_type": "markdown",
   "id": "0454e7d3-f998-4ee3-9967-2749d03b178b",
   "metadata": {
    "editable": true,
    "slideshow": {
     "slide_type": "fragment"
    },
    "tags": []
   },
   "source": [
    "## What is recursion?\n",
    "- a function that calls itself\n",
    "- an algorithm that can be defined in terms of itself\n",
    "- a tool for breaking down a problem"
   ]
  },
  {
   "cell_type": "markdown",
   "id": "0b2b5eed-54f9-4e2e-978f-ff6e560b05a9",
   "metadata": {
    "editable": true,
    "slideshow": {
     "slide_type": "fragment"
    },
    "tags": []
   },
   "source": [
    "## What are the two components to a recursive algorithm?\n",
    "### Recursive Step\n",
    "- A rule that reduces all inputs to the base case\n",
    "- \"How to call the function again\"\n",
    "### Base Case\n",
    "- An input to the function that doesn't require recursion to find the answer\n",
    "- \"Where to stop\""
   ]
  },
  {
   "cell_type": "markdown",
   "id": "7f6499db-6d15-430c-bf63-2d2717272264",
   "metadata": {
    "editable": true,
    "slideshow": {
     "slide_type": "fragment"
    },
    "tags": []
   },
   "source": [
    "## When to apply recursion?\n",
    "- When the problem is defined recursively\n",
    "- When the data structure is recursive\n",
    "- In general: when a recursive solution is simpler and more understandable by humans\n"
   ]
  },
  {
   "cell_type": "code",
   "execution_count": null,
   "id": "d6e0aef4-a42e-45ef-8ffb-032d12e1259c",
   "metadata": {},
   "outputs": [],
   "source": []
  }
 ],
 "metadata": {
  "kernelspec": {
   "display_name": "mds",
   "language": "python",
   "name": "mds"
  },
  "language_info": {
   "codemirror_mode": {
    "name": "ipython",
    "version": 3
   },
   "file_extension": ".py",
   "mimetype": "text/x-python",
   "name": "python",
   "nbconvert_exporter": "python",
   "pygments_lexer": "ipython3",
   "version": "3.9.6"
  }
 },
 "nbformat": 4,
 "nbformat_minor": 5
}
